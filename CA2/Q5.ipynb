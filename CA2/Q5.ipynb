{
 "cells": [
  {
   "cell_type": "code",
   "execution_count": 6,
   "metadata": {},
   "outputs": [],
   "source": [
    "import random\n",
    "import pandas as pd"
   ]
  },
  {
   "cell_type": "code",
   "execution_count": 1,
   "metadata": {},
   "outputs": [],
   "source": [
    "class Covid19Symptoms:\n",
    "    def __init__(self, fever, cold, shivering, weight_loss):\n",
    "        self.fever = fever        \n",
    "        self.cold = cold          \n",
    "        self.shivering = shivering \n",
    "        self.weight_loss = weight_loss "
   ]
  },
  {
   "cell_type": "code",
   "execution_count": 9,
   "metadata": {},
   "outputs": [],
   "source": [
    "def gen_data(num_samples=100):\n",
    "    data = []\n",
    "    for _ in range(num_samples):\n",
    "        fever = round(random.uniform(98.0, 104.0),3)\n",
    "        cold = random.randint(1, 5)       \n",
    "        shivering = random.randint(1, 5)       \n",
    "        weight_loss = random.uniform(0.5, 10.0)    \n",
    "        data.append(Covid19Symptoms(fever, cold, shivering, weight_loss))\n",
    "    return data"
   ]
  },
  {
   "cell_type": "code",
   "execution_count": 3,
   "metadata": {},
   "outputs": [],
   "source": [
    "def data_to_dataframe(data):\n",
    "    return pd.DataFrame([{\n",
    "        'fever': d.fever,\n",
    "        'cold': d.cold,\n",
    "        'shivering': d.shivering,\n",
    "        'weight_loss': d.weight_loss\n",
    "    } for d in data])\n"
   ]
  },
  {
   "cell_type": "code",
   "execution_count": 4,
   "metadata": {},
   "outputs": [],
   "source": [
    "def sort_data(df, parameter):\n",
    "    if parameter in df.columns:\n",
    "        return df.sort_values(by=parameter)\n",
    "    else:\n",
    "        print(f\"Invalid parameter: {parameter}. Please choose from {list(df.columns)}\")\n",
    "        return df"
   ]
  },
  {
   "cell_type": "code",
   "execution_count": 10,
   "metadata": {},
   "outputs": [
    {
     "name": "stdout",
     "output_type": "stream",
     "text": [
      "\n",
      "Generated COVID-19 Symptoms Data (First 5 rows):\n",
      "     fever  cold  shivering  weight_loss\n",
      "0  100.493     3          2     2.760866\n",
      "1  100.062     2          4     2.642510\n",
      "2  102.261     1          1     4.152821\n",
      "3  101.361     1          1     3.171273\n",
      "4  101.334     3          1     5.473337\n",
      "\n",
      "Data sorted by fever (First 5 rows):\n",
      "     fever  cold  shivering  weight_loss\n",
      "45  98.026     3          2     4.224401\n",
      "73  98.049     3          4     5.581267\n",
      "93  98.122     4          2     7.123322\n",
      "92  98.164     4          1     2.637544\n",
      "47  98.225     4          2     2.123496\n"
     ]
    }
   ],
   "source": [
    "data = gen_data(100)\n",
    "df = data_to_dataframe(data)\n",
    "print(\"\\nGenerated COVID-19 Symptoms Data (First 5 rows):\")\n",
    "print(df.head())\n",
    "parameter = input(\"\\nEnter the parameter to sort by (fever, cold, shivering, weight_loss): \").strip().lower()\n",
    "sorted_df = sort_data(df, parameter)\n",
    "print(f\"\\nData sorted by {parameter} (First 5 rows):\")\n",
    "print(sorted_df.head())"
   ]
  }
 ],
 "metadata": {
  "kernelspec": {
   "display_name": "base",
   "language": "python",
   "name": "python3"
  },
  "language_info": {
   "codemirror_mode": {
    "name": "ipython",
    "version": 3
   },
   "file_extension": ".py",
   "mimetype": "text/x-python",
   "name": "python",
   "nbconvert_exporter": "python",
   "pygments_lexer": "ipython3",
   "version": "3.11.5"
  }
 },
 "nbformat": 4,
 "nbformat_minor": 2
}
